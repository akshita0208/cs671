import numpy as np
import cv2
import math
import os
import random
from PIL import Image, ImageDraw
import csv
os.system("mkdir data1")
length = [7,15]
width = [1,3]
color = [(255,0,0),(0,0,255)]

itr = 0
for i in length:
    if(i==7):
        label1 = 0
    else:
        label1 = 1    
    for j in width:
        if j == 1:
            label2 = 0
        else:
            label2 = 1    
        for k in range(0,12):
            theta = k*15*(math.pi)/180
            for c in color:
                if(c==(255,0,0)):
                    label = 0
                for r in range(1000):
                    im1 = np.zeros((28,28,3),dtype='int')
                    im = Image.fromarray(im1,'RGB')
                    line1 = ImageDraw.Draw(im)
                    y2 = i*(math.sin(theta))
                    x2 = i*(math.cos(theta))
                    xshift=random.randint(int((x2/2)-14),int(14-(x2/2)))
                    yshift = random.randint(int((y2/2)-14),int(14-(y2/2)))
                       #point1,point2 = (int(14- (x2/2) +xshift),int(14 + (y2/2) + yshift)),(int(14 + (x2/2) + xshift),int(14 - (y2/2) + yshift))
                       #point1, point2 = (x1, y1), (x2, y2)
                    line1.line((int(14- (x2/2) +xshift),int(14 + (y2/2) + yshift),int(14 + (x2/2) + xshift),int(14 - (y2/2) + yshift)), fill = c, width=j)
                    iname = str(itr)+".jpg"
                    #    itr+=1
                    iname = str(label1)+"_"+str(label2)+"_"+str(k)+"_"+str(label)+str(r+1)+".jpg"
                        #writer.writerow([str(itr),str(iname)])
                    im.save("data1/"+iname)
